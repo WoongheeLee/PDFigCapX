{
 "cells": [
  {
   "cell_type": "code",
   "execution_count": 16,
   "metadata": {},
   "outputs": [],
   "source": [
    "from os import listdir, makedirs\n",
    "from pathlib import Path\n",
    "\n",
    "path_to_logs = \"/home/jtt/Documents/outputs/output_cord19_kasra/\"\n",
    "path_to_pmc = \"/media/cumulus/curation_data/pmc_pdfs\"\n",
    "path_to_data = Path(\"/home/jtt/Documents/outputs/output_cord19_kasra/data\")\n",
    "\n",
    "pmc_ids = [x[:-4] for x in listdir(path_to_pmc)] # without .pdf"
   ]
  },
  {
   "cell_type": "code",
   "execution_count": 17,
   "metadata": {},
   "outputs": [
    {
     "data": {
      "text/plain": [
       "'PMC4353274'"
      ]
     },
     "execution_count": 17,
     "metadata": {},
     "output_type": "execute_result"
    }
   ],
   "source": [
    "pmc_ids[0]"
   ]
  },
  {
   "cell_type": "code",
   "execution_count": 18,
   "metadata": {},
   "outputs": [],
   "source": [
    "for folder_id in pmc_ids:\n",
    "  folder_path = path_to_data / folder_id\n",
    "  makedirs(folder_path, exist_ok=True)"
   ]
  },
  {
   "cell_type": "code",
   "execution_count": 19,
   "metadata": {},
   "outputs": [],
   "source": [
    "import shutil\n",
    "\n",
    "items = listdir(path_to_data)\n",
    "for item in items:\n",
    "  if item.endswith((\".json\", \".png\", \".jpg\")):    \n",
    "    if item.endswith(\".jpg\"):\n",
    "      doc_name = item.split(\"_\")[0]\n",
    "    else:\n",
    "      doc_name = Path(item).stem\n",
    "    input = path_to_data / item\n",
    "    target = path_to_data / doc_name / item\n",
    "\n",
    "    shutil.move(input, target)\n",
    "  \n",
    "  "
   ]
  },
  {
   "cell_type": "code",
   "execution_count": null,
   "metadata": {},
   "outputs": [],
   "source": []
  }
 ],
 "metadata": {
  "kernelspec": {
   "display_name": "Python 3.9.7 ('.venv': poetry)",
   "language": "python",
   "name": "python3"
  },
  "language_info": {
   "codemirror_mode": {
    "name": "ipython",
    "version": 3
   },
   "file_extension": ".py",
   "mimetype": "text/x-python",
   "name": "python",
   "nbconvert_exporter": "python",
   "pygments_lexer": "ipython3",
   "version": "3.9.7"
  },
  "orig_nbformat": 4,
  "vscode": {
   "interpreter": {
    "hash": "ec9a853f35f1b49ec3e81687ee54a5efaabe3a4e769438b3e5b2643b3308c059"
   }
  }
 },
 "nbformat": 4,
 "nbformat_minor": 2
}
